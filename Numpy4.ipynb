{
  "nbformat": 4,
  "nbformat_minor": 0,
  "metadata": {
    "colab": {
      "provenance": [],
      "authorship_tag": "ABX9TyPkKnHiNK58ypg/lpFJ6VdO",
      "include_colab_link": true
    },
    "kernelspec": {
      "name": "python3",
      "display_name": "Python 3"
    },
    "language_info": {
      "name": "python"
    }
  },
  "cells": [
    {
      "cell_type": "markdown",
      "metadata": {
        "id": "view-in-github",
        "colab_type": "text"
      },
      "source": [
        "<a href=\"https://colab.research.google.com/github/gudiya-archi/Data-science/blob/main/Numpy4.ipynb\" target=\"_parent\"><img src=\"https://colab.research.google.com/assets/colab-badge.svg\" alt=\"Open In Colab\"/></a>"
      ]
    },
    {
      "cell_type": "code",
      "execution_count": null,
      "metadata": {
        "id": "pzsKBC2zaGs8",
        "colab": {
          "base_uri": "https://localhost:8080/"
        },
        "outputId": "e2ce8a4c-b679-46cd-9db1-a4eac8e37dab"
      },
      "outputs": [
        {
          "output_type": "execute_result",
          "data": {
            "text/plain": [
              "array([56, 86, 81, 99, 21, 88, 51,  8, 95, 52, 77, 49, 27, 98,  8])"
            ]
          },
          "metadata": {},
          "execution_count": 9
        }
      ],
      "source": [
        "# np.sort\n",
        "import numpy as np\n",
        "a = np.random.randint(1,100,15)\n",
        "a"
      ]
    },
    {
      "cell_type": "code",
      "source": [
        "b = np.random.randint(1,100,24).reshape(6,4)\n",
        "b"
      ],
      "metadata": {
        "colab": {
          "base_uri": "https://localhost:8080/"
        },
        "id": "c4JVtxoTaHlT",
        "outputId": "d275d886-cef2-489d-ef69-f384323d23fe"
      },
      "execution_count": null,
      "outputs": [
        {
          "output_type": "execute_result",
          "data": {
            "text/plain": [
              "array([[22, 24, 70, 17],\n",
              "       [92, 23, 42,  3],\n",
              "       [10, 81,  1, 19],\n",
              "       [11, 91,  1, 11],\n",
              "       [78, 24,  4, 33],\n",
              "       [71, 51, 34, 50]])"
            ]
          },
          "metadata": {},
          "execution_count": 10
        }
      ]
    },
    {
      "cell_type": "code",
      "source": [
        "np.sort(a)"
      ],
      "metadata": {
        "colab": {
          "base_uri": "https://localhost:8080/"
        },
        "id": "wC6ki_L9aipW",
        "outputId": "69e69847-960b-44d6-907f-144f900f7d83"
      },
      "execution_count": null,
      "outputs": [
        {
          "output_type": "execute_result",
          "data": {
            "text/plain": [
              "array([ 8,  8, 21, 27, 49, 51, 52, 56, 77, 81, 86, 88, 95, 98, 99])"
            ]
          },
          "metadata": {},
          "execution_count": 11
        }
      ]
    },
    {
      "cell_type": "code",
      "source": [
        "np.sort(b,axis=0)"
      ],
      "metadata": {
        "colab": {
          "base_uri": "https://localhost:8080/"
        },
        "id": "iwHpsls3a4fN",
        "outputId": "1ac3ee9d-60c5-446d-a0b3-10997f6744de"
      },
      "execution_count": null,
      "outputs": [
        {
          "output_type": "execute_result",
          "data": {
            "text/plain": [
              "array([[10, 23,  1,  3],\n",
              "       [11, 24,  1, 11],\n",
              "       [22, 24,  4, 17],\n",
              "       [71, 51, 34, 19],\n",
              "       [78, 81, 42, 33],\n",
              "       [92, 91, 70, 50]])"
            ]
          },
          "metadata": {},
          "execution_count": 12
        }
      ]
    },
    {
      "cell_type": "code",
      "source": [
        "np.sort(b,axis=1)"
      ],
      "metadata": {
        "colab": {
          "base_uri": "https://localhost:8080/"
        },
        "id": "RY3h3ltzbXDw",
        "outputId": "25411e66-0af2-40fd-b5cd-49b4fff91594"
      },
      "execution_count": null,
      "outputs": [
        {
          "output_type": "execute_result",
          "data": {
            "text/plain": [
              "array([[20, 43, 51, 92],\n",
              "       [ 2, 30, 42, 68],\n",
              "       [13, 26, 38, 39],\n",
              "       [10, 35, 65, 67],\n",
              "       [19, 61, 67, 85],\n",
              "       [ 1, 32, 59, 86]])"
            ]
          },
          "metadata": {},
          "execution_count": 5
        }
      ]
    },
    {
      "cell_type": "code",
      "source": [
        "np.sort(a)[::-1]"
      ],
      "metadata": {
        "colab": {
          "base_uri": "https://localhost:8080/"
        },
        "id": "OlAbAlq8ba_a",
        "outputId": "2eaed291-1845-47b1-e12c-ddefcc564384"
      },
      "execution_count": null,
      "outputs": [
        {
          "output_type": "execute_result",
          "data": {
            "text/plain": [
              "array([99, 98, 95, 88, 86, 81, 77, 56, 52, 51, 49, 27, 21,  8,  8])"
            ]
          },
          "metadata": {},
          "execution_count": 14
        }
      ]
    },
    {
      "cell_type": "code",
      "source": [
        "a"
      ],
      "metadata": {
        "colab": {
          "base_uri": "https://localhost:8080/"
        },
        "id": "-J4HAq9IbrSW",
        "outputId": "ac54ac6f-f15b-4527-d7dd-91edff1b0bd7"
      },
      "execution_count": null,
      "outputs": [
        {
          "output_type": "execute_result",
          "data": {
            "text/plain": [
              "array([56, 86, 81, 99, 21, 88, 51,  8, 95, 52, 77, 49, 27, 98,  8])"
            ]
          },
          "metadata": {},
          "execution_count": 15
        }
      ]
    },
    {
      "cell_type": "code",
      "source": [
        "# append code\n",
        "np.append(a,200)"
      ],
      "metadata": {
        "colab": {
          "base_uri": "https://localhost:8080/"
        },
        "id": "l84Et25TbwXt",
        "outputId": "741429c6-d25e-4ab5-dc18-bbe54a0d7aff"
      },
      "execution_count": null,
      "outputs": [
        {
          "output_type": "execute_result",
          "data": {
            "text/plain": [
              "array([ 56,  86,  81,  99,  21,  88,  51,   8,  95,  52,  77,  49,  27,\n",
              "        98,   8, 200])"
            ]
          },
          "metadata": {},
          "execution_count": 16
        }
      ]
    },
    {
      "cell_type": "code",
      "source": [
        "b"
      ],
      "metadata": {
        "colab": {
          "base_uri": "https://localhost:8080/"
        },
        "id": "VGecf3pZcIie",
        "outputId": "bdbdc5fd-c3e6-482a-f338-cf37db4fa342"
      },
      "execution_count": null,
      "outputs": [
        {
          "output_type": "execute_result",
          "data": {
            "text/plain": [
              "array([[22, 24, 70, 17],\n",
              "       [92, 23, 42,  3],\n",
              "       [10, 81,  1, 19],\n",
              "       [11, 91,  1, 11],\n",
              "       [78, 24,  4, 33],\n",
              "       [71, 51, 34, 50]])"
            ]
          },
          "metadata": {},
          "execution_count": 17
        }
      ]
    },
    {
      "cell_type": "code",
      "source": [
        "np.append(b,np.ones((b.shape[0],1)),axis=1)\n",
        "# axis=1 is used for column"
      ],
      "metadata": {
        "colab": {
          "base_uri": "https://localhost:8080/"
        },
        "id": "jNCwkTDecMRM",
        "outputId": "e0ed3d1c-3202-4079-d654-5120f109bce1"
      },
      "execution_count": null,
      "outputs": [
        {
          "output_type": "execute_result",
          "data": {
            "text/plain": [
              "array([[22., 24., 70., 17.,  1.],\n",
              "       [92., 23., 42.,  3.,  1.],\n",
              "       [10., 81.,  1., 19.,  1.],\n",
              "       [11., 91.,  1., 11.,  1.],\n",
              "       [78., 24.,  4., 33.,  1.],\n",
              "       [71., 51., 34., 50.,  1.]])"
            ]
          },
          "metadata": {},
          "execution_count": 18
        }
      ]
    },
    {
      "cell_type": "code",
      "source": [
        "np.append(b,np.random.random((b.shape[0],1)),axis=1)\n"
      ],
      "metadata": {
        "colab": {
          "base_uri": "https://localhost:8080/"
        },
        "id": "AI6nq_Iadvkk",
        "outputId": "64cb02e7-d172-4f5b-c6ac-43878f3d81bd"
      },
      "execution_count": null,
      "outputs": [
        {
          "output_type": "execute_result",
          "data": {
            "text/plain": [
              "array([[2.20000000e+01, 2.40000000e+01, 7.00000000e+01, 1.70000000e+01,\n",
              "        2.47379445e-02],\n",
              "       [9.20000000e+01, 2.30000000e+01, 4.20000000e+01, 3.00000000e+00,\n",
              "        6.09307097e-03],\n",
              "       [1.00000000e+01, 8.10000000e+01, 1.00000000e+00, 1.90000000e+01,\n",
              "        8.30380761e-01],\n",
              "       [1.10000000e+01, 9.10000000e+01, 1.00000000e+00, 1.10000000e+01,\n",
              "        7.22462678e-01],\n",
              "       [7.80000000e+01, 2.40000000e+01, 4.00000000e+00, 3.30000000e+01,\n",
              "        5.84506605e-01],\n",
              "       [7.10000000e+01, 5.10000000e+01, 3.40000000e+01, 5.00000000e+01,\n",
              "        2.79133407e-01]])"
            ]
          },
          "metadata": {},
          "execution_count": 19
        }
      ]
    },
    {
      "cell_type": "code",
      "source": [
        "# np.concatenate\n",
        "c = np.arange(6).reshape(2,3)\n",
        "d = np.arange(6,12).reshape(2,3)\n",
        "\n",
        "print(c)\n",
        "print(d)"
      ],
      "metadata": {
        "colab": {
          "base_uri": "https://localhost:8080/"
        },
        "id": "F89EdCIHd_LD",
        "outputId": "11daadf1-ee72-42f3-ad53-8234da213817"
      },
      "execution_count": null,
      "outputs": [
        {
          "output_type": "stream",
          "name": "stdout",
          "text": [
            "[[0 1 2]\n",
            " [3 4 5]]\n",
            "[[ 6  7  8]\n",
            " [ 9 10 11]]\n"
          ]
        }
      ]
    },
    {
      "cell_type": "code",
      "source": [
        "np.concatenate((c,d),axis=1)"
      ],
      "metadata": {
        "colab": {
          "base_uri": "https://localhost:8080/"
        },
        "id": "wLri8qVbe3pb",
        "outputId": "cf3f49a1-d364-4d12-e977-7eeef17b48fe"
      },
      "execution_count": null,
      "outputs": [
        {
          "output_type": "execute_result",
          "data": {
            "text/plain": [
              "array([[ 0,  1,  2,  6,  7,  8],\n",
              "       [ 3,  4,  5,  9, 10, 11]])"
            ]
          },
          "metadata": {},
          "execution_count": 21
        }
      ]
    },
    {
      "cell_type": "code",
      "source": [
        "np.concatenate((c,d),axis=0)"
      ],
      "metadata": {
        "colab": {
          "base_uri": "https://localhost:8080/"
        },
        "id": "ircI0psyefPu",
        "outputId": "a614c959-49f8-4b5b-e49a-aaf2bc8f4547"
      },
      "execution_count": null,
      "outputs": [
        {
          "output_type": "execute_result",
          "data": {
            "text/plain": [
              "array([[ 0,  1,  2],\n",
              "       [ 3,  4,  5],\n",
              "       [ 6,  7,  8],\n",
              "       [ 9, 10, 11]])"
            ]
          },
          "metadata": {},
          "execution_count": 22
        }
      ]
    },
    {
      "cell_type": "code",
      "source": [
        "# np.unique\n",
        "\n",
        "e = np.array([1,1,2,2,3,3,4,4,5,5,6,6,])\n",
        "f = np.array([[1,2,3,1],[1,2,3,2]])\n",
        "print(e)\n",
        "print(f)"
      ],
      "metadata": {
        "colab": {
          "base_uri": "https://localhost:8080/"
        },
        "id": "WBO3YVSRfUmj",
        "outputId": "b48f4fd0-8620-4924-a8ef-45a6db9b9c93"
      },
      "execution_count": null,
      "outputs": [
        {
          "output_type": "stream",
          "name": "stdout",
          "text": [
            "[1 1 2 2 3 3 4 4 5 5 6 6]\n",
            "[[1 2 3 1]\n",
            " [1 2 3 2]]\n"
          ]
        }
      ]
    },
    {
      "cell_type": "code",
      "source": [
        "np.unique(e)"
      ],
      "metadata": {
        "colab": {
          "base_uri": "https://localhost:8080/"
        },
        "id": "VRATKhBngJgq",
        "outputId": "635ba782-3c14-4340-e815-aab4d9cf629e"
      },
      "execution_count": null,
      "outputs": [
        {
          "output_type": "execute_result",
          "data": {
            "text/plain": [
              "array([1, 2, 3, 4, 5, 6])"
            ]
          },
          "metadata": {},
          "execution_count": 24
        }
      ]
    },
    {
      "cell_type": "code",
      "source": [
        "# np.expand_dims\n",
        "a"
      ],
      "metadata": {
        "colab": {
          "base_uri": "https://localhost:8080/"
        },
        "id": "cG3Vpx-chE86",
        "outputId": "ea188f9e-621e-4b9d-cb7c-d266754048da"
      },
      "execution_count": null,
      "outputs": [
        {
          "output_type": "execute_result",
          "data": {
            "text/plain": [
              "array([56, 86, 81, 99, 21, 88, 51,  8, 95, 52, 77, 49, 27, 98,  8])"
            ]
          },
          "metadata": {},
          "execution_count": 25
        }
      ]
    },
    {
      "cell_type": "code",
      "source": [
        "a.shape"
      ],
      "metadata": {
        "colab": {
          "base_uri": "https://localhost:8080/"
        },
        "id": "vJ0AlNsNhs3u",
        "outputId": "776e395a-e437-4814-fdd7-d7d72f0997f1"
      },
      "execution_count": null,
      "outputs": [
        {
          "output_type": "execute_result",
          "data": {
            "text/plain": [
              "(15,)"
            ]
          },
          "metadata": {},
          "execution_count": 26
        }
      ]
    },
    {
      "cell_type": "code",
      "source": [
        "np.expand_dims(a,axis=0).shape"
      ],
      "metadata": {
        "colab": {
          "base_uri": "https://localhost:8080/"
        },
        "id": "WRj7qUvMhw8H",
        "outputId": "3f003e84-f2d6-4c46-a7e5-e05668421051"
      },
      "execution_count": null,
      "outputs": [
        {
          "output_type": "execute_result",
          "data": {
            "text/plain": [
              "(1, 15)"
            ]
          },
          "metadata": {},
          "execution_count": 27
        }
      ]
    },
    {
      "cell_type": "code",
      "source": [
        "np.expand_dims(a,axis=1).shape"
      ],
      "metadata": {
        "colab": {
          "base_uri": "https://localhost:8080/"
        },
        "id": "ik6aaU-UiU_C",
        "outputId": "94d344ab-c17b-4ad2-b1ef-44620e3a3988"
      },
      "execution_count": null,
      "outputs": [
        {
          "output_type": "execute_result",
          "data": {
            "text/plain": [
              "(15, 1)"
            ]
          },
          "metadata": {},
          "execution_count": 28
        }
      ]
    },
    {
      "cell_type": "code",
      "source": [
        "np.expand_dims(a,axis=1)"
      ],
      "metadata": {
        "colab": {
          "base_uri": "https://localhost:8080/"
        },
        "id": "HJW61q0Uh7QR",
        "outputId": "b3dc1447-e2ba-4805-f8d9-216cb2d6f5cb"
      },
      "execution_count": null,
      "outputs": [
        {
          "output_type": "execute_result",
          "data": {
            "text/plain": [
              "array([[56],\n",
              "       [86],\n",
              "       [81],\n",
              "       [99],\n",
              "       [21],\n",
              "       [88],\n",
              "       [51],\n",
              "       [ 8],\n",
              "       [95],\n",
              "       [52],\n",
              "       [77],\n",
              "       [49],\n",
              "       [27],\n",
              "       [98],\n",
              "       [ 8]])"
            ]
          },
          "metadata": {},
          "execution_count": 29
        }
      ]
    },
    {
      "cell_type": "code",
      "source": [
        "np.expand_dims(a,axis=0)\n",
        "\n"
      ],
      "metadata": {
        "colab": {
          "base_uri": "https://localhost:8080/"
        },
        "id": "sW6svrD_hfAx",
        "outputId": "fe689ca4-df77-4d57-fd1e-62588e91c9a5"
      },
      "execution_count": null,
      "outputs": [
        {
          "output_type": "execute_result",
          "data": {
            "text/plain": [
              "array([[56, 86, 81, 99, 21, 88, 51,  8, 95, 52, 77, 49, 27, 98,  8]])"
            ]
          },
          "metadata": {},
          "execution_count": 30
        }
      ]
    },
    {
      "cell_type": "code",
      "source": [
        "# np.where\n",
        "a"
      ],
      "metadata": {
        "colab": {
          "base_uri": "https://localhost:8080/"
        },
        "id": "qf-UExrNivnN",
        "outputId": "8c68a710-333e-4429-ef42-8fa9e29b7ff2"
      },
      "execution_count": null,
      "outputs": [
        {
          "output_type": "execute_result",
          "data": {
            "text/plain": [
              "array([56, 86, 81, 99, 21, 88, 51,  8, 95, 52, 77, 49, 27, 98,  8])"
            ]
          },
          "metadata": {},
          "execution_count": 31
        }
      ]
    },
    {
      "cell_type": "code",
      "source": [
        "# find all indices with value greater than 50\n",
        "np.where(a>50)"
      ],
      "metadata": {
        "colab": {
          "base_uri": "https://localhost:8080/"
        },
        "id": "ZX_FINLijQ--",
        "outputId": "8e48b4ac-de11-442e-e928-3ce67b8b9450"
      },
      "execution_count": null,
      "outputs": [
        {
          "output_type": "execute_result",
          "data": {
            "text/plain": [
              "(array([ 0,  1,  2,  3,  5,  6,  8,  9, 10, 13]),)"
            ]
          },
          "metadata": {},
          "execution_count": 32
        }
      ]
    },
    {
      "cell_type": "code",
      "source": [
        "# replace all values > 50 with 0\n",
        "np.where(a>50,0,a)\n",
        "# np.where(condition,true,false)"
      ],
      "metadata": {
        "colab": {
          "base_uri": "https://localhost:8080/"
        },
        "id": "Uy-_A54ajaWl",
        "outputId": "6c295b28-966c-4190-c3c9-77d64bf6fe86"
      },
      "execution_count": null,
      "outputs": [
        {
          "output_type": "execute_result",
          "data": {
            "text/plain": [
              "array([ 0,  0,  0,  0, 21,  0,  0,  8,  0,  0,  0, 49, 27,  0,  8])"
            ]
          },
          "metadata": {},
          "execution_count": 33
        }
      ]
    },
    {
      "cell_type": "code",
      "source": [
        "np.where(a%2==0,0,a)"
      ],
      "metadata": {
        "colab": {
          "base_uri": "https://localhost:8080/"
        },
        "id": "S8Tyj1uNlKuA",
        "outputId": "caa4bab8-e6bf-4434-b7e9-e624c733c87a"
      },
      "execution_count": null,
      "outputs": [
        {
          "output_type": "execute_result",
          "data": {
            "text/plain": [
              "array([ 0,  0, 81, 99, 21,  0, 51,  0, 95,  0, 77, 49, 27,  0,  0])"
            ]
          },
          "metadata": {},
          "execution_count": 34
        }
      ]
    },
    {
      "cell_type": "code",
      "source": [
        "# argmax\n",
        "# largest value of indices\n",
        "a"
      ],
      "metadata": {
        "colab": {
          "base_uri": "https://localhost:8080/"
        },
        "id": "5YGlJRhkleeK",
        "outputId": "dbf5b5db-67b1-405d-a48d-54ae5c20325f"
      },
      "execution_count": null,
      "outputs": [
        {
          "output_type": "execute_result",
          "data": {
            "text/plain": [
              "array([56, 86, 81, 99, 21, 88, 51,  8, 95, 52, 77, 49, 27, 98,  8])"
            ]
          },
          "metadata": {},
          "execution_count": 35
        }
      ]
    },
    {
      "cell_type": "code",
      "source": [
        "np.argmax(a)"
      ],
      "metadata": {
        "colab": {
          "base_uri": "https://localhost:8080/"
        },
        "id": "-qlfPMpDlzBU",
        "outputId": "2a2423fc-60b2-4a69-b4d6-8aa0b457bf12"
      },
      "execution_count": null,
      "outputs": [
        {
          "output_type": "execute_result",
          "data": {
            "text/plain": [
              "np.int64(3)"
            ]
          },
          "metadata": {},
          "execution_count": 36
        }
      ]
    },
    {
      "cell_type": "code",
      "source": [
        "b"
      ],
      "metadata": {
        "colab": {
          "base_uri": "https://localhost:8080/"
        },
        "id": "ghmcPQZLmZm_",
        "outputId": "e9a933be-4b25-4390-cddd-f5dace72187b"
      },
      "execution_count": null,
      "outputs": [
        {
          "output_type": "execute_result",
          "data": {
            "text/plain": [
              "array([[22, 24, 70, 17],\n",
              "       [92, 23, 42,  3],\n",
              "       [10, 81,  1, 19],\n",
              "       [11, 91,  1, 11],\n",
              "       [78, 24,  4, 33],\n",
              "       [71, 51, 34, 50]])"
            ]
          },
          "metadata": {},
          "execution_count": 37
        }
      ]
    },
    {
      "cell_type": "code",
      "source": [
        "np.argmax(b,axis=0)"
      ],
      "metadata": {
        "colab": {
          "base_uri": "https://localhost:8080/"
        },
        "id": "druVURDgmeHB",
        "outputId": "f98d47a5-39a9-4b80-ca26-910d3fc43d9d"
      },
      "execution_count": null,
      "outputs": [
        {
          "output_type": "execute_result",
          "data": {
            "text/plain": [
              "array([1, 3, 0, 5])"
            ]
          },
          "metadata": {},
          "execution_count": 38
        }
      ]
    },
    {
      "cell_type": "code",
      "source": [
        "np.argmax(b,axis=1)"
      ],
      "metadata": {
        "colab": {
          "base_uri": "https://localhost:8080/"
        },
        "id": "sIUSM9simyjO",
        "outputId": "eb2cd509-83d5-4fb9-b5e2-3fa003a83618"
      },
      "execution_count": null,
      "outputs": [
        {
          "output_type": "execute_result",
          "data": {
            "text/plain": [
              "array([2, 0, 1, 1, 0, 0])"
            ]
          },
          "metadata": {},
          "execution_count": 39
        }
      ]
    },
    {
      "cell_type": "code",
      "source": [
        "# np.argmin\n",
        "# smallest value of the indices\n",
        "a"
      ],
      "metadata": {
        "colab": {
          "base_uri": "https://localhost:8080/"
        },
        "id": "kkbpbFBWnAzb",
        "outputId": "969c417b-c8ff-4a47-95c8-b3cdd02c6bfd"
      },
      "execution_count": null,
      "outputs": [
        {
          "output_type": "execute_result",
          "data": {
            "text/plain": [
              "array([56, 86, 81, 99, 21, 88, 51,  8, 95, 52, 77, 49, 27, 98,  8])"
            ]
          },
          "metadata": {},
          "execution_count": 40
        }
      ]
    },
    {
      "cell_type": "code",
      "source": [
        "np.argmin(a)"
      ],
      "metadata": {
        "colab": {
          "base_uri": "https://localhost:8080/"
        },
        "id": "Mi5wMDvYnHdM",
        "outputId": "0b878662-1b50-4bc6-ff15-4116c759d49a"
      },
      "execution_count": null,
      "outputs": [
        {
          "output_type": "execute_result",
          "data": {
            "text/plain": [
              "np.int64(7)"
            ]
          },
          "metadata": {},
          "execution_count": 41
        }
      ]
    },
    {
      "cell_type": "code",
      "source": [
        "# np.cumsum\n",
        "# add karta hai values .....\n",
        "# just likes 74+91 = 165, 165+59 = 224\n",
        "a"
      ],
      "metadata": {
        "colab": {
          "base_uri": "https://localhost:8080/"
        },
        "id": "wjfL3Th3nVyG",
        "outputId": "06024750-3ce1-49ea-cc77-5192a98d2913"
      },
      "execution_count": null,
      "outputs": [
        {
          "output_type": "execute_result",
          "data": {
            "text/plain": [
              "array([56, 86, 81, 99, 21, 88, 51,  8, 95, 52, 77, 49, 27, 98,  8])"
            ]
          },
          "metadata": {},
          "execution_count": 42
        }
      ]
    },
    {
      "cell_type": "code",
      "source": [
        "np.cumsum(a)"
      ],
      "metadata": {
        "colab": {
          "base_uri": "https://localhost:8080/"
        },
        "id": "Y4-OSgaln5ir",
        "outputId": "efce952c-06bf-45a5-a8c7-ed9b133df464"
      },
      "execution_count": null,
      "outputs": [
        {
          "output_type": "execute_result",
          "data": {
            "text/plain": [
              "array([ 56, 142, 223, 322, 343, 431, 482, 490, 585, 637, 714, 763, 790,\n",
              "       888, 896])"
            ]
          },
          "metadata": {},
          "execution_count": 43
        }
      ]
    },
    {
      "cell_type": "code",
      "source": [
        "b"
      ],
      "metadata": {
        "colab": {
          "base_uri": "https://localhost:8080/"
        },
        "id": "l_amoVYioVAQ",
        "outputId": "9330b3cb-fc42-424e-b981-cb6840b521de"
      },
      "execution_count": null,
      "outputs": [
        {
          "output_type": "execute_result",
          "data": {
            "text/plain": [
              "array([[22, 24, 70, 17],\n",
              "       [92, 23, 42,  3],\n",
              "       [10, 81,  1, 19],\n",
              "       [11, 91,  1, 11],\n",
              "       [78, 24,  4, 33],\n",
              "       [71, 51, 34, 50]])"
            ]
          },
          "metadata": {},
          "execution_count": 44
        }
      ]
    },
    {
      "cell_type": "code",
      "source": [
        "np.cumsum(b)"
      ],
      "metadata": {
        "colab": {
          "base_uri": "https://localhost:8080/"
        },
        "id": "4JdHxyLtonwz",
        "outputId": "a88dce1a-ada8-4696-b58a-b17633254a0f"
      },
      "execution_count": null,
      "outputs": [
        {
          "output_type": "execute_result",
          "data": {
            "text/plain": [
              "array([ 22,  46, 116, 133, 225, 248, 290, 293, 303, 384, 385, 404, 415,\n",
              "       506, 507, 518, 596, 620, 624, 657, 728, 779, 813, 863])"
            ]
          },
          "metadata": {},
          "execution_count": 45
        }
      ]
    },
    {
      "cell_type": "code",
      "source": [
        "np.cumsum(b,axis=1)\n",
        "# row"
      ],
      "metadata": {
        "colab": {
          "base_uri": "https://localhost:8080/"
        },
        "id": "Rzf6Q9F4oWxr",
        "outputId": "959a9bd4-b968-45ab-87c0-456952f40184"
      },
      "execution_count": null,
      "outputs": [
        {
          "output_type": "execute_result",
          "data": {
            "text/plain": [
              "array([[ 22,  46, 116, 133],\n",
              "       [ 92, 115, 157, 160],\n",
              "       [ 10,  91,  92, 111],\n",
              "       [ 11, 102, 103, 114],\n",
              "       [ 78, 102, 106, 139],\n",
              "       [ 71, 122, 156, 206]])"
            ]
          },
          "metadata": {},
          "execution_count": 46
        }
      ]
    },
    {
      "cell_type": "code",
      "source": [
        "np.cumsum(b,axis=0)\n",
        "# column"
      ],
      "metadata": {
        "colab": {
          "base_uri": "https://localhost:8080/"
        },
        "id": "E5na94VTofDR",
        "outputId": "4e6ca974-99cd-4740-d2f2-a497e07e9502"
      },
      "execution_count": null,
      "outputs": [
        {
          "output_type": "execute_result",
          "data": {
            "text/plain": [
              "array([[ 22,  24,  70,  17],\n",
              "       [114,  47, 112,  20],\n",
              "       [124, 128, 113,  39],\n",
              "       [135, 219, 114,  50],\n",
              "       [213, 243, 118,  83],\n",
              "       [284, 294, 152, 133]])"
            ]
          },
          "metadata": {},
          "execution_count": 47
        }
      ]
    },
    {
      "cell_type": "code",
      "source": [
        "# np.cumprod\n",
        "# multiple the values\n",
        "# 74*91 = 6734\n",
        "a"
      ],
      "metadata": {
        "colab": {
          "base_uri": "https://localhost:8080/"
        },
        "id": "WLLwzDsAqDZX",
        "outputId": "715ac336-bc94-4ffc-aec6-2afea3629e6d"
      },
      "execution_count": null,
      "outputs": [
        {
          "output_type": "execute_result",
          "data": {
            "text/plain": [
              "array([56, 86, 81, 99, 21, 88, 51,  8, 95, 52, 77, 49, 27, 98,  8])"
            ]
          },
          "metadata": {},
          "execution_count": 48
        }
      ]
    },
    {
      "cell_type": "code",
      "source": [
        "np.cumprod(a)"
      ],
      "metadata": {
        "colab": {
          "base_uri": "https://localhost:8080/"
        },
        "id": "74tVF16LqW0l",
        "outputId": "ed88e8f4-24d4-4534-ee31-f6ae2e3da455"
      },
      "execution_count": null,
      "outputs": [
        {
          "output_type": "execute_result",
          "data": {
            "text/plain": [
              "array([                  56,                 4816,               390096,\n",
              "                   38619504,            811009584,          71368843392,\n",
              "              3639811012992,       29118488103936,     2766256369873920,\n",
              "         143845331233443840, -7370653568734375936,  7772856606206611456,\n",
              "        6952943556773441536, -1141062163456139264, -9128497307649114112])"
            ]
          },
          "metadata": {},
          "execution_count": 49
        }
      ]
    },
    {
      "cell_type": "code",
      "source": [
        "# np.percentile\n",
        "a"
      ],
      "metadata": {
        "colab": {
          "base_uri": "https://localhost:8080/"
        },
        "id": "9GNxSpMUrA-z",
        "outputId": "c3a2037b-b3ff-485a-834c-14219cfb50ad"
      },
      "execution_count": null,
      "outputs": [
        {
          "output_type": "execute_result",
          "data": {
            "text/plain": [
              "array([56, 86, 81, 99, 21, 88, 51,  8, 95, 52, 77, 49, 27, 98,  8])"
            ]
          },
          "metadata": {},
          "execution_count": 50
        }
      ]
    },
    {
      "cell_type": "code",
      "source": [
        "np.percentile(a,0)"
      ],
      "metadata": {
        "colab": {
          "base_uri": "https://localhost:8080/"
        },
        "id": "Z3F7aWmBrY8X",
        "outputId": "0cb860fb-5766-4859-a84b-44494361e38b"
      },
      "execution_count": null,
      "outputs": [
        {
          "output_type": "execute_result",
          "data": {
            "text/plain": [
              "np.float64(8.0)"
            ]
          },
          "metadata": {},
          "execution_count": 51
        }
      ]
    },
    {
      "cell_type": "code",
      "source": [
        "np.percentile(a,100)"
      ],
      "metadata": {
        "colab": {
          "base_uri": "https://localhost:8080/"
        },
        "id": "NYzlafbSrm1q",
        "outputId": "26697588-32e5-4938-b038-fc79a4ede6e6"
      },
      "execution_count": null,
      "outputs": [
        {
          "output_type": "execute_result",
          "data": {
            "text/plain": [
              "np.float64(99.0)"
            ]
          },
          "metadata": {},
          "execution_count": 52
        }
      ]
    },
    {
      "cell_type": "code",
      "source": [
        "np.percentile(a,50)"
      ],
      "metadata": {
        "colab": {
          "base_uri": "https://localhost:8080/"
        },
        "id": "2F4XK8zPrtDe",
        "outputId": "73e56269-519d-44e4-bca8-4cc6ffa00f1f"
      },
      "execution_count": null,
      "outputs": [
        {
          "output_type": "execute_result",
          "data": {
            "text/plain": [
              "np.float64(56.0)"
            ]
          },
          "metadata": {},
          "execution_count": 53
        }
      ]
    },
    {
      "cell_type": "code",
      "source": [
        "# np.histogram\n",
        "a"
      ],
      "metadata": {
        "colab": {
          "base_uri": "https://localhost:8080/"
        },
        "id": "vt89bpw_r-gp",
        "outputId": "faab0b92-8067-4efa-bbf7-f4dd04ba96fa"
      },
      "execution_count": null,
      "outputs": [
        {
          "output_type": "execute_result",
          "data": {
            "text/plain": [
              "array([56, 86, 81, 99, 21, 88, 51,  8, 95, 52, 77, 49, 27, 98,  8])"
            ]
          },
          "metadata": {},
          "execution_count": 55
        }
      ]
    },
    {
      "cell_type": "code",
      "source": [
        "np.histogram(a,bins=[0,10,20,30,40,50,60,70,80,90,100])"
      ],
      "metadata": {
        "colab": {
          "base_uri": "https://localhost:8080/"
        },
        "id": "h2CTbJ1NsaPS",
        "outputId": "5a09d267-f643-4e08-c00b-c657ad2c8481"
      },
      "execution_count": null,
      "outputs": [
        {
          "output_type": "execute_result",
          "data": {
            "text/plain": [
              "(array([2, 0, 2, 0, 1, 3, 0, 1, 3, 3]),\n",
              " array([  0,  10,  20,  30,  40,  50,  60,  70,  80,  90, 100]))"
            ]
          },
          "metadata": {},
          "execution_count": 56
        }
      ]
    },
    {
      "cell_type": "code",
      "source": [
        "# np.corrcoef\n",
        "# return pearson product-moment correlation coefficients\n",
        "salary = np.array([20000,40000,25000,35000,60000])\n",
        "experience = np.array([1,3,2,4,2])\n",
        "np.corrcoef(salary,experience)"
      ],
      "metadata": {
        "colab": {
          "base_uri": "https://localhost:8080/"
        },
        "id": "nxEm2yQYs4Gn",
        "outputId": "c123dd85-2206-4c99-f5fc-7c9e2ef2da33"
      },
      "execution_count": null,
      "outputs": [
        {
          "output_type": "execute_result",
          "data": {
            "text/plain": [
              "array([[1.        , 0.25344572],\n",
              "       [0.25344572, 1.        ]])"
            ]
          },
          "metadata": {},
          "execution_count": 57
        }
      ]
    },
    {
      "cell_type": "code",
      "source": [
        "# np.isin\n",
        "a"
      ],
      "metadata": {
        "colab": {
          "base_uri": "https://localhost:8080/"
        },
        "id": "XIoCZPZzwRdy",
        "outputId": "e7842e54-5cde-4023-c07a-0018d7c0499a"
      },
      "execution_count": null,
      "outputs": [
        {
          "output_type": "execute_result",
          "data": {
            "text/plain": [
              "array([56, 86, 81, 99, 21, 88, 51,  8, 95, 52, 77, 49, 27, 98,  8])"
            ]
          },
          "metadata": {},
          "execution_count": 58
        }
      ]
    },
    {
      "cell_type": "code",
      "source": [
        "items = [10,20,30,40,50,60,70,80,90,100]\n",
        "np.isin(a,items)"
      ],
      "metadata": {
        "colab": {
          "base_uri": "https://localhost:8080/"
        },
        "id": "FEAoR7KHwXig",
        "outputId": "748498d5-d47b-4bb9-a4fc-96da61f94760"
      },
      "execution_count": null,
      "outputs": [
        {
          "output_type": "execute_result",
          "data": {
            "text/plain": [
              "array([False, False, False, False, False, False, False, False, False,\n",
              "       False, False, False, False, False, False])"
            ]
          },
          "metadata": {},
          "execution_count": 59
        }
      ]
    },
    {
      "cell_type": "code",
      "source": [
        "a[np.isin(a,items)]"
      ],
      "metadata": {
        "colab": {
          "base_uri": "https://localhost:8080/"
        },
        "id": "Kn5sVfHO1KU7",
        "outputId": "de428b99-20bf-4de9-dccc-f261fe7a78b9"
      },
      "execution_count": null,
      "outputs": [
        {
          "output_type": "execute_result",
          "data": {
            "text/plain": [
              "array([], dtype=int64)"
            ]
          },
          "metadata": {},
          "execution_count": 60
        }
      ]
    },
    {
      "cell_type": "code",
      "source": [
        "# np.flip\n",
        "a"
      ],
      "metadata": {
        "colab": {
          "base_uri": "https://localhost:8080/"
        },
        "id": "TC6kKOwT1TXo",
        "outputId": "b8e0c7be-2bdf-4b9e-d71a-29407410ddc5"
      },
      "execution_count": null,
      "outputs": [
        {
          "output_type": "execute_result",
          "data": {
            "text/plain": [
              "array([56, 86, 81, 99, 21, 88, 51,  8, 95, 52, 77, 49, 27, 98,  8])"
            ]
          },
          "metadata": {},
          "execution_count": 61
        }
      ]
    },
    {
      "cell_type": "code",
      "source": [
        "np.flip(a)"
      ],
      "metadata": {
        "colab": {
          "base_uri": "https://localhost:8080/"
        },
        "id": "TDeY2g-b1Ysb",
        "outputId": "d24abdd6-a47e-4b42-f3d5-d96acb61b96e"
      },
      "execution_count": null,
      "outputs": [
        {
          "output_type": "execute_result",
          "data": {
            "text/plain": [
              "array([ 8, 98, 27, 49, 77, 52, 95,  8, 51, 88, 21, 99, 81, 86, 56])"
            ]
          },
          "metadata": {},
          "execution_count": 62
        }
      ]
    },
    {
      "cell_type": "code",
      "source": [
        "b"
      ],
      "metadata": {
        "colab": {
          "base_uri": "https://localhost:8080/"
        },
        "id": "-Y430ld21pWn",
        "outputId": "16cf8ec4-b60e-4107-c28e-f04522839893"
      },
      "execution_count": null,
      "outputs": [
        {
          "output_type": "execute_result",
          "data": {
            "text/plain": [
              "array([[22, 24, 70, 17],\n",
              "       [92, 23, 42,  3],\n",
              "       [10, 81,  1, 19],\n",
              "       [11, 91,  1, 11],\n",
              "       [78, 24,  4, 33],\n",
              "       [71, 51, 34, 50]])"
            ]
          },
          "metadata": {},
          "execution_count": 63
        }
      ]
    },
    {
      "cell_type": "code",
      "source": [
        "np.flip(b)"
      ],
      "metadata": {
        "colab": {
          "base_uri": "https://localhost:8080/"
        },
        "id": "IoaeVdEb1rQ-",
        "outputId": "230f2046-36d7-4f4b-d328-e5b8a84a9e68"
      },
      "execution_count": null,
      "outputs": [
        {
          "output_type": "execute_result",
          "data": {
            "text/plain": [
              "array([[50, 34, 51, 71],\n",
              "       [33,  4, 24, 78],\n",
              "       [11,  1, 91, 11],\n",
              "       [19,  1, 81, 10],\n",
              "       [ 3, 42, 23, 92],\n",
              "       [17, 70, 24, 22]])"
            ]
          },
          "metadata": {},
          "execution_count": 64
        }
      ]
    },
    {
      "cell_type": "code",
      "source": [
        "np.flip(b,axis=0)"
      ],
      "metadata": {
        "colab": {
          "base_uri": "https://localhost:8080/"
        },
        "id": "NHrEjhKM101Z",
        "outputId": "f2686c66-e6dd-4666-cbeb-e1ef81326910"
      },
      "execution_count": null,
      "outputs": [
        {
          "output_type": "execute_result",
          "data": {
            "text/plain": [
              "array([[71, 51, 34, 50],\n",
              "       [78, 24,  4, 33],\n",
              "       [11, 91,  1, 11],\n",
              "       [10, 81,  1, 19],\n",
              "       [92, 23, 42,  3],\n",
              "       [22, 24, 70, 17]])"
            ]
          },
          "metadata": {},
          "execution_count": 65
        }
      ]
    },
    {
      "cell_type": "code",
      "source": [
        "np.flip(b,axis=1)"
      ],
      "metadata": {
        "colab": {
          "base_uri": "https://localhost:8080/"
        },
        "id": "FhmFeKOh2DPC",
        "outputId": "cf1310d6-1c96-4397-a8c3-4c9c820a4706"
      },
      "execution_count": null,
      "outputs": [
        {
          "output_type": "execute_result",
          "data": {
            "text/plain": [
              "array([[17, 70, 24, 22],\n",
              "       [ 3, 42, 23, 92],\n",
              "       [19,  1, 81, 10],\n",
              "       [11,  1, 91, 11],\n",
              "       [33,  4, 24, 78],\n",
              "       [50, 34, 51, 71]])"
            ]
          },
          "metadata": {},
          "execution_count": 66
        }
      ]
    },
    {
      "cell_type": "code",
      "source": [
        "# np.put\n",
        "a"
      ],
      "metadata": {
        "colab": {
          "base_uri": "https://localhost:8080/"
        },
        "id": "2HoWnVxo1hs2",
        "outputId": "ad674b88-d525-420a-fa4b-c1e3ca181ec4"
      },
      "execution_count": null,
      "outputs": [
        {
          "output_type": "execute_result",
          "data": {
            "text/plain": [
              "array([56, 86, 81, 99, 21, 88, 51,  8, 95, 52, 77, 49, 27, 98,  8])"
            ]
          },
          "metadata": {},
          "execution_count": 67
        }
      ]
    },
    {
      "cell_type": "code",
      "source": [
        "np.put(a,[0,1],[110,530])"
      ],
      "metadata": {
        "id": "cT6hsZxT1lQj"
      },
      "execution_count": null,
      "outputs": []
    },
    {
      "cell_type": "code",
      "source": [
        "# np.delete\n",
        "a"
      ],
      "metadata": {
        "colab": {
          "base_uri": "https://localhost:8080/"
        },
        "id": "r06d5-I33CYj",
        "outputId": "fbf3b904-2041-4c1f-8e0e-7cd12a536233"
      },
      "execution_count": null,
      "outputs": [
        {
          "output_type": "execute_result",
          "data": {
            "text/plain": [
              "array([110, 530,  81,  99,  21,  88,  51,   8,  95,  52,  77,  49,  27,\n",
              "        98,   8])"
            ]
          },
          "metadata": {},
          "execution_count": 69
        }
      ]
    },
    {
      "cell_type": "code",
      "source": [
        "np.delete(a,0)"
      ],
      "metadata": {
        "colab": {
          "base_uri": "https://localhost:8080/"
        },
        "id": "h8-A7aIc3KnC",
        "outputId": "635e8cba-6805-4e1e-cd02-9b270a82c1f9"
      },
      "execution_count": null,
      "outputs": [
        {
          "output_type": "execute_result",
          "data": {
            "text/plain": [
              "array([530,  81,  99,  21,  88,  51,   8,  95,  52,  77,  49,  27,  98,\n",
              "         8])"
            ]
          },
          "metadata": {},
          "execution_count": 70
        }
      ]
    },
    {
      "cell_type": "code",
      "source": [
        "np.delete(a,[0,2,4])"
      ],
      "metadata": {
        "colab": {
          "base_uri": "https://localhost:8080/"
        },
        "id": "wvO3-2MM3m2U",
        "outputId": "4046896e-ea28-48fb-cc4a-769910918f7e"
      },
      "execution_count": null,
      "outputs": [
        {
          "output_type": "execute_result",
          "data": {
            "text/plain": [
              "array([530,  99,  88,  51,   8,  95,  52,  77,  49,  27,  98,   8])"
            ]
          },
          "metadata": {},
          "execution_count": 72
        }
      ]
    },
    {
      "cell_type": "code",
      "source": [
        "# set functions\n",
        "# 1 np.union1d\n",
        "# 2 np.intersect1d\n",
        "# 3 np.setdiff1d\n",
        "# 4 np.setxor1d\n",
        "# 5 np.in1d\n",
        "\n",
        "m = np.array([1,2,3,4,5])\n",
        "n = np.array([3,4,5,6,7])\n",
        "np.union1d(m,n)"
      ],
      "metadata": {
        "colab": {
          "base_uri": "https://localhost:8080/"
        },
        "id": "QIR-Unr-b5Na",
        "outputId": "c5990cce-299c-4ba6-acbe-61c371963dcf"
      },
      "execution_count": null,
      "outputs": [
        {
          "output_type": "execute_result",
          "data": {
            "text/plain": [
              "array([1, 2, 3, 4, 5, 6, 7])"
            ]
          },
          "metadata": {},
          "execution_count": 73
        }
      ]
    },
    {
      "cell_type": "code",
      "source": [
        "np.intersect1d(m,n)"
      ],
      "metadata": {
        "colab": {
          "base_uri": "https://localhost:8080/"
        },
        "id": "QV8zzHi0dYg1",
        "outputId": "8a2589f1-ad51-4529-be0d-9a29d294dac3"
      },
      "execution_count": null,
      "outputs": [
        {
          "output_type": "execute_result",
          "data": {
            "text/plain": [
              "array([3, 4, 5])"
            ]
          },
          "metadata": {},
          "execution_count": 74
        }
      ]
    },
    {
      "cell_type": "code",
      "source": [
        "np.setdiff1d(m,n)"
      ],
      "metadata": {
        "colab": {
          "base_uri": "https://localhost:8080/"
        },
        "id": "cQSoSd0Ddc4H",
        "outputId": "7a713114-a631-46ea-95fa-6f63522d5e54"
      },
      "execution_count": null,
      "outputs": [
        {
          "output_type": "execute_result",
          "data": {
            "text/plain": [
              "array([1, 2])"
            ]
          },
          "metadata": {},
          "execution_count": 75
        }
      ]
    },
    {
      "cell_type": "code",
      "source": [
        "np.setxor1d(m,n)"
      ],
      "metadata": {
        "colab": {
          "base_uri": "https://localhost:8080/"
        },
        "id": "xcb49CCfdjAX",
        "outputId": "dea04398-88b8-4b14-fcfc-729eb37dd282"
      },
      "execution_count": null,
      "outputs": [
        {
          "output_type": "execute_result",
          "data": {
            "text/plain": [
              "array([1, 2, 6, 7])"
            ]
          },
          "metadata": {},
          "execution_count": 76
        }
      ]
    },
    {
      "cell_type": "code",
      "source": [
        "np.in1d(m,1)"
      ],
      "metadata": {
        "colab": {
          "base_uri": "https://localhost:8080/"
        },
        "id": "W-AiRfnHdqRC",
        "outputId": "aace74ff-76fd-4ab5-d212-b0b2b6ebe11c"
      },
      "execution_count": null,
      "outputs": [
        {
          "output_type": "stream",
          "name": "stderr",
          "text": [
            "/tmp/ipython-input-77-3930963099.py:1: DeprecationWarning: `in1d` is deprecated. Use `np.isin` instead.\n",
            "  np.in1d(m,1)\n"
          ]
        },
        {
          "output_type": "execute_result",
          "data": {
            "text/plain": [
              "array([ True, False, False, False, False])"
            ]
          },
          "metadata": {},
          "execution_count": 77
        }
      ]
    },
    {
      "cell_type": "code",
      "source": [
        "np.in1d(m,10)"
      ],
      "metadata": {
        "colab": {
          "base_uri": "https://localhost:8080/"
        },
        "id": "Nvdyl3OgdvyG",
        "outputId": "0559203a-dbab-43e5-b3c3-6d151ab976b9"
      },
      "execution_count": null,
      "outputs": [
        {
          "output_type": "stream",
          "name": "stderr",
          "text": [
            "/tmp/ipython-input-78-3337556509.py:1: DeprecationWarning: `in1d` is deprecated. Use `np.isin` instead.\n",
            "  np.in1d(m,10)\n"
          ]
        },
        {
          "output_type": "execute_result",
          "data": {
            "text/plain": [
              "array([False, False, False, False, False])"
            ]
          },
          "metadata": {},
          "execution_count": 78
        }
      ]
    },
    {
      "cell_type": "code",
      "source": [
        "n[np.in1d(m,1)]"
      ],
      "metadata": {
        "colab": {
          "base_uri": "https://localhost:8080/"
        },
        "id": "pYP91bcreLyL",
        "outputId": "b47d28cb-d9b7-433a-c7ba-f0b0cf56aecd"
      },
      "execution_count": null,
      "outputs": [
        {
          "output_type": "stream",
          "name": "stderr",
          "text": [
            "/tmp/ipython-input-80-490781921.py:1: DeprecationWarning: `in1d` is deprecated. Use `np.isin` instead.\n",
            "  n[np.in1d(m,1)]\n"
          ]
        },
        {
          "output_type": "execute_result",
          "data": {
            "text/plain": [
              "array([3])"
            ]
          },
          "metadata": {},
          "execution_count": 80
        }
      ]
    },
    {
      "cell_type": "code",
      "source": [
        "# np.clip\n",
        "a"
      ],
      "metadata": {
        "colab": {
          "base_uri": "https://localhost:8080/"
        },
        "id": "5vjYnJCGeYFO",
        "outputId": "2f2359f5-cc4e-4325-d9f9-d4bd14e7061d"
      },
      "execution_count": null,
      "outputs": [
        {
          "output_type": "execute_result",
          "data": {
            "text/plain": [
              "array([110, 530,  81,  99,  21,  88,  51,   8,  95,  52,  77,  49,  27,\n",
              "        98,   8])"
            ]
          },
          "metadata": {},
          "execution_count": 81
        }
      ]
    },
    {
      "cell_type": "code",
      "source": [
        "np.clip(a,a_min=25,a_max=75)"
      ],
      "metadata": {
        "colab": {
          "base_uri": "https://localhost:8080/"
        },
        "id": "6a18bsddedCs",
        "outputId": "0ef3b2d5-0cbe-4143-cfe4-3582480719e5"
      },
      "execution_count": null,
      "outputs": [
        {
          "output_type": "execute_result",
          "data": {
            "text/plain": [
              "array([75, 75, 75, 75, 25, 75, 51, 25, 75, 52, 75, 49, 27, 75, 25])"
            ]
          },
          "metadata": {},
          "execution_count": 82
        }
      ]
    }
  ]
}